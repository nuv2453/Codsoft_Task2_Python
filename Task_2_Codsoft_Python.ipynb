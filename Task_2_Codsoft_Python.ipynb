{
 "cells": [
  {
   "cell_type": "code",
   "execution_count": null,
   "id": "89e7d0de",
   "metadata": {},
   "outputs": [],
   "source": [
    "def calculator():\n",
    "    \"\"\"\n",
    "    A simple calculator that performs basic arithmetic operations.\n",
    "    \"\"\"\n",
    "\n",
    "    operations = {\n",
    "        '1': ('+', lambda x, y: x + y),\n",
    "        '2': ('-', lambda x, y: x - y),\n",
    "        '3': ('*', lambda x, y: x * y),\n",
    "        '4': ('/', lambda x, y: x / y if y != 0 else \"Error! Division by zero.\")\n",
    "    }\n",
    "\n",
    "    while True:\n",
    "        print(\"Simple Calculator\")\n",
    "        print(\"Select operation:\")\n",
    "        for key, value in operations.items():\n",
    "            print(f\"{key}. {value[0]}\")\n",
    "\n",
    "        choice = (\"Enter choice: \")\n",
    "\n",
    "        if choice in operations:\n",
    "            try:\n",
    "                num1 = float(input(\"Enter first number: \"))\n",
    "                num2 = float(input(\"Enter second number: \"))\n",
    "                operator, operation = operations[choice]\n",
    "                result = operation(num1, num2)\n",
    "                print(f\"{num1} {operator} {num2} = {result}\")\n",
    "            except ValueError:\n",
    "                print(\"Invalid input! Please enter a number.\")\n",
    "            except ZeroDivisionError:\n",
    "                print(\"Error! Division by zero.\")\n",
    "        else:\n",
    "            print(\"Invalid choice! Please select a valid operation.\")\n",
    "\n",
    "        next_calculation = input(\"Do you want to perform another calculation? (yes/no): \")\n",
    "        if next_calculation.lower() != 'yes':\n",
    "            break\n",
    "\n",
    "if __name__ == \"__main__\":\n",
    "    calculator()\n"
   ]
  },
  {
   "cell_type": "code",
   "execution_count": null,
   "id": "0ad29ee5",
   "metadata": {},
   "outputs": [],
   "source": []
  },
  {
   "cell_type": "code",
   "execution_count": null,
   "id": "4932baf3",
   "metadata": {},
   "outputs": [],
   "source": []
  }
 ],
 "metadata": {
  "kernelspec": {
   "display_name": "Python 3 (ipykernel)",
   "language": "python",
   "name": "python3"
  },
  "language_info": {
   "codemirror_mode": {
    "name": "ipython",
    "version": 3
   },
   "file_extension": ".py",
   "mimetype": "text/x-python",
   "name": "python",
   "nbconvert_exporter": "python",
   "pygments_lexer": "ipython3",
   "version": "3.11.5"
  }
 },
 "nbformat": 4,
 "nbformat_minor": 5
}
